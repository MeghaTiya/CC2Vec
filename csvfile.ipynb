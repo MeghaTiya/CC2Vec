{
 "cells": [
  {
   "cell_type": "code",
   "execution_count": 1,
   "metadata": {},
   "outputs": [],
   "source": [
    "import pickle\n",
    "from nltk.translate.bleu_score import sentence_bleu\n",
    "from nltk.translate.bleu_score import SmoothingFunction\n",
    "\n",
    "path ='C:/Users/Dell/LMG IBM/CC2Vec/data+model/data/lmg/test.pkl' #path='/root/……/aus_openface.pkl' Path where the pkl file is located\n",
    "f = open(path,'rb')\n",
    "testdata = pickle.load(f)\n",
    "\n",
    "\n",
    "#predlog contains log messages generated from smalltrain.pkl (100 lms only)\n",
    "pathref = 'C:/Users/Dell/LMG IBM/CC2Vec/predlog.pkl' \n",
    "file = open(pathref, 'rb')\n",
    "preddata = pickle.load(file)\n",
    "\n",
    "def bleu_score(testdata, preddata, num):\n",
    "    reference = testdata[0][num-1].split()\n",
    "    candidate = preddata[num-1].split()\n",
    "    chencherry = SmoothingFunction()\n",
    "    score = sentence_bleu(reference, candidate, smoothing_function=chencherry.method5)\n",
    "    return score\n",
    "    \n",
    "\n",
    "def csvdict(data, num):\n",
    "    dictforcsv = {}\n",
    "    dictforcsv['Code Change'] = testdata[1][num-1]\n",
    "    dictforcsv['Given Log Message'] =  testdata[0][num-1]\n",
    "    dictforcsv['Predicted Log Message'] = preddata[num-1]\n",
    "    dictforcsv['BLEU-4 Score'] = bleu_score(testdata, preddata, num)\n",
    "    return dictforcsv\n"
   ]
  },
  {
   "cell_type": "code",
   "execution_count": 3,
   "metadata": {},
   "outputs": [],
   "source": [
    "import os\n",
    "import csv\n",
    "\n",
    "csvlist = []\n",
    "for i in range(2216):\n",
    "    csvlist.append(csvdict(testdata, i+1))\n",
    "#print(csvlist)\n",
    "\n",
    "fields = ['Code Change', 'Given Log Message', 'Predicted Log Message', 'BLEU-4 Score']\n",
    "\n",
    "testcsvfile = \"testdata1.csv\"\n",
    "\n",
    "# writing to csv file \n",
    "with open(testcsvfile, 'w') as csvfile: \n",
    "    # creating a csv dict writer object \n",
    "    writer = csv.DictWriter(csvfile, fieldnames = fields) \n",
    "        \n",
    "    # writing headers (field names) \n",
    "    writer.writeheader() \n",
    "        \n",
    "    # writing data rows \n",
    "    writer.writerows(csvlist) \n",
    "    "
   ]
  }
 ],
 "metadata": {
  "kernelspec": {
   "display_name": "Python 3",
   "language": "python",
   "name": "python3"
  },
  "language_info": {
   "codemirror_mode": {
    "name": "ipython",
    "version": 3
   },
   "file_extension": ".py",
   "mimetype": "text/x-python",
   "name": "python",
   "nbconvert_exporter": "python",
   "pygments_lexer": "ipython3",
   "version": "3.8.5"
  }
 },
 "nbformat": 4,
 "nbformat_minor": 4
}
